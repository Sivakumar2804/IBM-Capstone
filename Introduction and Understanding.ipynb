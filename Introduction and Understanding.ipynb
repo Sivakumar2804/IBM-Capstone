{
    "cells": [
        {
            "metadata": {
                "collapsed": true
            },
            "cell_type": "markdown",
            "source": "#     _THE BATTLE OF NEIGHBORHOODS - NEW YORK_ \n--------\n## INTRODUCTION AND BUSINESS PROBLEM\n\n### PROBLEM BACKGROUND\n\nNew York, the most populus city in USA. It is well know for _WALL STREET_ and multiple business options. New York also known as NY acts as premier land for immigants to open business. Wikipedia says New york has more than 800 languages with 3.2 million residents that makes an diverse option to globalisation. All these factors insights the real fact that business is highly completitive as well.\n\nImplementing a new business or exploring the existing one has never been less competitive. A proper insight on Business need before implementation can assist avoiding high risk factors. This insights stimulate the best business solutions to promote and compete the global markets as well.\n\n### PROBLEM DESCRIPTION\n\nRestraunt opening in NewYork is highly competitive but certain factors can help understanding the insights of this competeness.Being a premier land of immigrants New York has an wide range of cusines including Chinese fried food, Japanese sushi, Italian pasta and Mexican Tacos as well. \n\n1. Central and Eastern European immigrants, Jewish immigrants - bagels, cheesecake, hot dogs, knishes, and delicatessens\n2. Italian immigrants - New York-style pizza and Italian cuisine\n3. Jewish immigrants and Irish immigrants - pastrami and corned beef\n4. Chinese and other Asian restaurants, sandwich joints, trattorias, diners, and coffeehouses are ubiquitous throughout the city\n5. mobile food vendors - Approx 4,000 licensed by the city\n6. Middle Eastern foods such as falafel and kebabs examples of modern New York street food\n7. It is famous for not just Pizzerias, Cafe's but also for fine dining Michelin starred restaurants.The city is home to \"nearly one thousand of the finest and most diverse haute cuisine restaurants in the world\", according to Michelin.\n\nInorder to compete this market and succeed, following factors can be analyzed \n\n1. New York Population\n2. New York City Demographics\n3. Are there any Farmers Markets, Wholesale markets etc nearby so that the ingredients can be purchased fresh to maintain quality and cost?\n4. Are there any venues like Gyms, Entertainmnet zones, Parks etc nearby where floating population is high etc\n5. Who are the competitors in that location?\n6. Cuisine served / Menu of the competitors\n7. Segmentation of the Borough\n8. Untapped markets,Saturated markets etc\n\nThe list can go on...\n\nDespite of funding and other constraints, Right venue option for the organization help high success rate. Following the first approach same can be followed in other locations as well.\n\n## Target Audience\n\nStake holders and Managing directors of the organization will be the primary audience for the entire project followed by restraunt business investors of any kind can get insight from this.\n\nExpectations include proper justification of venue preference and high demand.\n\n## Success Criteria\n\nThe Success criteria for the project abides with good venue selection on proper neighbourhood and township with high demand and better accessiblity with less probes as much as possible.\n\n## Data Section\n\nSince the New York Datasets are completely available (The Earlier dataset being used in the Capstone week 3). Despite of the available dataset we have access including premium calls on Foursquare API. The Foursquare API will be used for acquiring data regarding the updated geo locations and other cusine factors nearby.\n\nAn detail exploratory on Data Analysis will be carried with business insights on the upcoming sections with clear dataset/dataframes."
        }
    ],
    "metadata": {
        "kernelspec": {
            "name": "python3",
            "display_name": "Python 3.6",
            "language": "python"
        },
        "language_info": {
            "name": "python",
            "version": "3.6.9",
            "mimetype": "text/x-python",
            "codemirror_mode": {
                "name": "ipython",
                "version": 3
            },
            "pygments_lexer": "ipython3",
            "nbconvert_exporter": "python",
            "file_extension": ".py"
        }
    },
    "nbformat": 4,
    "nbformat_minor": 1
}